{
 "cells": [
  {
   "cell_type": "code",
   "execution_count": 1,
   "id": "streaming-concrete",
   "metadata": {},
   "outputs": [],
   "source": [
    "import cv2\n",
    "import numpy as np"
   ]
  },
  {
   "cell_type": "code",
   "execution_count": 3,
   "id": "static-amendment",
   "metadata": {},
   "outputs": [],
   "source": [
    "def onMouse(event, x, y, flags, param):\n",
    "    if event == cv2.EVENT_LBUTTONDOWN:\n",
    "        if flags & cv2.EVENT_FLAG_SHIFTKEY:\n",
    "            cv2.rectangle(param[0], (x-5, y-5), \n",
    "                          (x+5, y+5), (255, 0, 0))\n",
    "        else:\n",
    "            cv2.circle(param[0], (x, y), 5, (255, 0, 0), 3)\n",
    "    elif event == cv2.EVENT_RBUTTONDOWN:\n",
    "        cv2.circle(param[0], (x, y), 5, (0, 0, 255), -1)\n",
    "    elif event == cv2.EVENT_LBUTTONDBLCLK:\n",
    "        param[0] = np.zeros(param[0].shape, np.uint8) + 255\n",
    "        \n",
    "    cv2.imshow('Canvas', param[0])"
   ]
  },
  {
   "cell_type": "code",
   "execution_count": 4,
   "id": "bright-liabilities",
   "metadata": {},
   "outputs": [],
   "source": [
    "canvas = np.zeros((512,512,3), np.uint8) + 255\n",
    "#canvas = np.ones((512,512,3), np.uint8) * 255\n",
    "#canvas = np.full((512,512,3), (255, 255, 255), np.uint8)\n",
    "\n",
    "cv2.imshow('Canvas', canvas)\n",
    "cv2.setMouseCallback('Canvas', onMouse, [canvas])\n",
    "cv2.waitKey()\n",
    "cv2.destroyAllWindows()"
   ]
  },
  {
   "cell_type": "code",
   "execution_count": null,
   "id": "casual-symbol",
   "metadata": {},
   "outputs": [],
   "source": []
  }
 ],
 "metadata": {
  "kernelspec": {
   "display_name": "Python 3",
   "language": "python",
   "name": "python3"
  },
  "language_info": {
   "codemirror_mode": {
    "name": "ipython",
    "version": 3
   },
   "file_extension": ".py",
   "mimetype": "text/x-python",
   "name": "python",
   "nbconvert_exporter": "python",
   "pygments_lexer": "ipython3",
   "version": "3.6.12"
  }
 },
 "nbformat": 4,
 "nbformat_minor": 5
}
