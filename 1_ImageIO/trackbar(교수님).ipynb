{
 "cells": [
  {
   "cell_type": "code",
   "execution_count": 1,
   "id": "regional-kazakhstan",
   "metadata": {},
   "outputs": [],
   "source": [
    "import cv2\n",
    "import numpy as np"
   ]
  },
  {
   "cell_type": "code",
   "execution_count": 2,
   "id": "reverse-motivation",
   "metadata": {},
   "outputs": [],
   "source": [
    "def onChange(pos):\n",
    "    global canvas\n",
    "    r = cv2.getTrackbarPos('R','canvas')\n",
    "    g = cv2.getTrackbarPos('G','canvas')\n",
    "    b = cv2.getTrackbarPos('B','canvas')\n",
    "    canvas[:] = (b, g, r)\n",
    "    cv2.imshow('canvas', canvas)"
   ]
  },
  {
   "cell_type": "code",
   "execution_count": 3,
   "id": "noted-legislation",
   "metadata": {},
   "outputs": [],
   "source": [
    "canvas = np.zeros((512,512,3), np.uint8)\n",
    "cv2.imshow('canvas', canvas)\n",
    "\n",
    "# trackbar 생성\n",
    "cv2.createTrackbar('R', 'canvas', 0, 255, onChange)\n",
    "cv2.createTrackbar('G', 'canvas', 0, 255, onChange)\n",
    "cv2.createTrackbar('B', 'canvas', 0, 255, onChange)\n",
    "\n",
    "# trackbar 위치 초기화\n",
    "cv2.setTrackbarPos('R', 'canvas', 0)\n",
    "cv2.setTrackbarPos('G', 'canvas', 0)\n",
    "cv2.setTrackbarPos('B', 'canvas', 0)\n",
    "\n",
    "cv2.waitKey()\n",
    "cv2.destroyAllWindows()"
   ]
  },
  {
   "cell_type": "code",
   "execution_count": null,
   "id": "eight-stephen",
   "metadata": {},
   "outputs": [],
   "source": []
  }
 ],
 "metadata": {
  "kernelspec": {
   "display_name": "Python 3",
   "language": "python",
   "name": "python3"
  },
  "language_info": {
   "codemirror_mode": {
    "name": "ipython",
    "version": 3
   },
   "file_extension": ".py",
   "mimetype": "text/x-python",
   "name": "python",
   "nbconvert_exporter": "python",
   "pygments_lexer": "ipython3",
   "version": "3.6.12"
  }
 },
 "nbformat": 4,
 "nbformat_minor": 5
}
