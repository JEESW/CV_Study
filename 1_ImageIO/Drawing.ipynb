{
 "cells": [
  {
   "cell_type": "code",
   "execution_count": 1,
   "id": "537b8242",
   "metadata": {},
   "outputs": [],
   "source": [
    "import cv2\n",
    "import numpy as np"
   ]
  },
  {
   "cell_type": "code",
   "execution_count": 2,
   "id": "62313a94",
   "metadata": {},
   "outputs": [],
   "source": [
    "image = np.zeros(shape=(512, 512, 3), dtype = np.uint8) + 255\n",
    "pt1 = 100, 100\n",
    "pt2 = 400, 400\n",
    "cv2.rectangle(image, pt1, pt2, (0, 255, 0), 2)\n",
    "cv2.line(image, (0, 0), (500, 0), (255, 0, 0), 5)\n",
    "cv2.line(image, (0, 0), (0, 500), (0, 0, 255), 5)\n",
    "\n",
    "cv2.imshow('image', image)\n",
    "cv2.waitKey()\n",
    "cv2.destroyAllWindows()"
   ]
  },
  {
   "cell_type": "code",
   "execution_count": 3,
   "id": "97d3e220",
   "metadata": {},
   "outputs": [
    {
     "name": "stdout",
     "output_type": "stream",
     "text": [
      "(512, 512, 3)\n"
     ]
    }
   ],
   "source": [
    "image2 = np.zeros(shape = (512, 512, 3), dtype = np.uint8) + 255\n",
    "print(image2.shape)\n",
    "cx = image2.shape[1] // 2\n",
    "cy = image2.shape[0] // 2"
   ]
  },
  {
   "cell_type": "code",
   "execution_count": 4,
   "id": "a7b953b0",
   "metadata": {},
   "outputs": [],
   "source": [
    "cv2.circle(image2, (cx, cy), radius = 50, color = (0, 0, 255), thickness = -1)\n",
    "cv2.imshow('image2', image2)\n",
    "cv2.waitKey()\n",
    "cv2.destroyAllWindows()"
   ]
  },
  {
   "cell_type": "code",
   "execution_count": null,
   "id": "7049d6aa",
   "metadata": {},
   "outputs": [],
   "source": []
  }
 ],
 "metadata": {
  "kernelspec": {
   "display_name": "Python 3 (ipykernel)",
   "language": "python",
   "name": "python3"
  },
  "language_info": {
   "codemirror_mode": {
    "name": "ipython",
    "version": 3
   },
   "file_extension": ".py",
   "mimetype": "text/x-python",
   "name": "python",
   "nbconvert_exporter": "python",
   "pygments_lexer": "ipython3",
   "version": "3.10.4"
  }
 },
 "nbformat": 4,
 "nbformat_minor": 5
}
