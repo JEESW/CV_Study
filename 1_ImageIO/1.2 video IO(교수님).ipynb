{
 "cells": [
  {
   "cell_type": "markdown",
   "metadata": {},
   "source": [
    "### 1. video input and display - file"
   ]
  },
  {
   "cell_type": "code",
   "execution_count": null,
   "metadata": {},
   "outputs": [],
   "source": [
    "import cv2\n",
    "\n",
    "##cap = cv2.VideoCapture(0)  # 0번 카메라\n",
    "cap = cv2.VideoCapture('./data/vtest.avi')\n",
    "frame_size = (int(cap.get(cv2.CAP_PROP_FRAME_WIDTH)), int(cap.get(cv2.CAP_PROP_FRAME_HEIGHT)))\n",
    "print('frame_size =', frame_size)\n",
    "\n",
    "while True:   \n",
    "    retval, frame = cap.read() # 프레임 캡처\n",
    "    if not retval:\n",
    "        break\n",
    "\n",
    "    cv2.imshow('frame',frame)\n",
    "    \n",
    "    key = cv2.waitKey(25)\n",
    "    if key == 27: # Esc\n",
    "        break\n",
    "        \n",
    "if cap.isOpened():\n",
    "    cap.release()\n",
    "    \n",
    "cv2.destroyAllWindows()"
   ]
  },
  {
   "cell_type": "markdown",
   "metadata": {},
   "source": [
    "### 2. video input and display - youtube\n",
    "#### pip install youtube_dl==2020.12.2\n",
    "#### pip install pafy"
   ]
  },
  {
   "cell_type": "code",
   "execution_count": null,
   "metadata": {},
   "outputs": [],
   "source": [
    "import cv2\n",
    "import pafy\n",
    "\n",
    "url = 'https://www.youtube.com/watch?v=u_Q7Dkl7AIk'\n",
    "\n",
    "video = pafy.new(url)\n",
    "print('title = ', video.title)\n",
    "print('video.rating = ', video.rating)\n",
    "print('video.duration = ', video.duration)\n",
    "\n",
    "# Selects the stream with the highest resolution\n",
    "best = video.getbest(preftype='mp4')     # 'mp4','3gp'\n",
    "print(best)\n",
    "print('best.resolution', best.resolution)\n",
    "\n",
    "cap=cv2.VideoCapture(best.url)\n",
    "\n",
    "while(True):\n",
    "    retval, frame = cap.read()\n",
    "    if not retval:\n",
    "        break\n",
    "    cv2.imshow('frame',frame)\n",
    "    \n",
    "    gray = cv2.cvtColor(frame, cv2.COLOR_BGR2GRAY)\n",
    "    edges = cv2.Canny(gray, 100, 200)\n",
    "    cv2.imshow('edges',edges)\n",
    "    \n",
    "    key = cv2.waitKey(25)\n",
    "    if key == 27: # Esc\n",
    "        break\n",
    "        \n",
    "cv2.destroyAllWindows()\n"
   ]
  },
  {
   "cell_type": "code",
   "execution_count": null,
   "metadata": {},
   "outputs": [],
   "source": []
  }
 ],
 "metadata": {
  "kernelspec": {
   "display_name": "Python 3",
   "language": "python",
   "name": "python3"
  },
  "language_info": {
   "codemirror_mode": {
    "name": "ipython",
    "version": 3
   },
   "file_extension": ".py",
   "mimetype": "text/x-python",
   "name": "python",
   "nbconvert_exporter": "python",
   "pygments_lexer": "ipython3",
   "version": "3.6.12"
  }
 },
 "nbformat": 4,
 "nbformat_minor": 4
}
