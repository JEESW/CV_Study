{
 "cells": [
  {
   "cell_type": "code",
   "execution_count": 1,
   "id": "cardiovascular-kingdom",
   "metadata": {},
   "outputs": [],
   "source": [
    "import cv2\n",
    "import numpy as np"
   ]
  },
  {
   "cell_type": "code",
   "execution_count": 2,
   "id": "cutting-coordinate",
   "metadata": {},
   "outputs": [],
   "source": [
    "image = np.zeros(shape=(512, 512, 3), dtype=np.uint8) + 255\n",
    "pt1 = 100, 100\n",
    "pt2 = 400, 400\n",
    "cv2.rectangle(image, pt1, pt2, (0, 255, 0), 2)\n",
    "cv2.line(image, (0,0), (500, 0), (255, 0, 0), 5)\n",
    "cv2.line(image, (0,0), (0, 500), (0, 0, 255), 5)\n",
    "\n",
    "cv2.imshow('image', image)\n",
    "cv2.waitKey()\n",
    "cv2.destroyAllWindows()"
   ]
  },
  {
   "cell_type": "code",
   "execution_count": 4,
   "id": "spatial-speaker",
   "metadata": {},
   "outputs": [
    {
     "name": "stdout",
     "output_type": "stream",
     "text": [
      "(512, 512, 3)\n"
     ]
    }
   ],
   "source": [
    "image2 = np.zeros(shape=(512,512,3), dtype=np.uint8) + 255\n",
    "print(image2.shape)\n",
    "\n",
    "cx = image2.shape[0] // 2\n",
    "cy = image2.shape[1] // 2"
   ]
  },
  {
   "cell_type": "code",
   "execution_count": 6,
   "id": "proprietary-prospect",
   "metadata": {},
   "outputs": [],
   "source": [
    "cv2.circle(image2, (cx, cy), radius=50, color=(0, 0, 255),\n",
    "           thickness=-1)\n",
    "\n",
    "cv2.imshow('image2', image2)\n",
    "cv2.waitKey()\n",
    "cv2.destroyAllWindows()"
   ]
  },
  {
   "cell_type": "code",
   "execution_count": null,
   "id": "scheduled-above",
   "metadata": {},
   "outputs": [],
   "source": []
  }
 ],
 "metadata": {
  "kernelspec": {
   "display_name": "Python 3",
   "language": "python",
   "name": "python3"
  },
  "language_info": {
   "codemirror_mode": {
    "name": "ipython",
    "version": 3
   },
   "file_extension": ".py",
   "mimetype": "text/x-python",
   "name": "python",
   "nbconvert_exporter": "python",
   "pygments_lexer": "ipython3",
   "version": "3.6.12"
  }
 },
 "nbformat": 4,
 "nbformat_minor": 5
}
