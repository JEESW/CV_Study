{
 "cells": [
  {
   "cell_type": "code",
   "execution_count": 1,
   "id": "3e43d080",
   "metadata": {},
   "outputs": [],
   "source": [
    "import cv2\n",
    "import numpy as np"
   ]
  },
  {
   "cell_type": "code",
   "execution_count": 6,
   "id": "421eacb8",
   "metadata": {},
   "outputs": [],
   "source": [
    "def onChange(pos):# track바 이벤트 핸들러의 인자는 pos로 지정 되있음.\n",
    "    global canvas\n",
    "    r = cv2.getTrackbarPos('R', 'canvas')# track바의 rgb값을 가져옴.\n",
    "    g = cv2.getTrackbarPos('G', 'canvas')\n",
    "    b = cv2.getTrackbarPos('B', 'canvas')\n",
    "    canvas[:] = (b, g, r)\n",
    "    cv2.imshow('canvas', canvas)"
   ]
  },
  {
   "cell_type": "code",
   "execution_count": 12,
   "id": "8194e555",
   "metadata": {},
   "outputs": [],
   "source": [
    "canvas = np.zeros((512, 512, 3), np.uint8)\n",
    "cv2.imshow('canvas', canvas)\n",
    "\n",
    "# trackbar 생성\n",
    "cv2.createTrackbar('R', 'canvas', 0, 255, onChange)# R -> trackbar의 이름 canvas는 붙일 윈도우 이름, 범위 지정, onChange 함수 만들기\n",
    "cv2.createTrackbar('G', 'canvas', 0, 255, onChange)\n",
    "cv2.createTrackbar('B', 'canvas', 0, 255, onChange)\n",
    "# trackbar 위치 초기화\n",
    "cv2.setTrackbarPos('R', 'canvas', 0)# R 트랙바의 초기값이 0으로 seting됨\n",
    "cv2.setTrackbarPos('G', 'canvas', 0)\n",
    "cv2.setTrackbarPos('B', 'canvas', 0)\n",
    "\n",
    "cv2.waitKey()\n",
    "cv2.destroyAllWindows()"
   ]
  },
  {
   "cell_type": "code",
   "execution_count": null,
   "id": "7be30764",
   "metadata": {},
   "outputs": [],
   "source": []
  }
 ],
 "metadata": {
  "kernelspec": {
   "display_name": "Python 3 (ipykernel)",
   "language": "python",
   "name": "python3"
  },
  "language_info": {
   "codemirror_mode": {
    "name": "ipython",
    "version": 3
   },
   "file_extension": ".py",
   "mimetype": "text/x-python",
   "name": "python",
   "nbconvert_exporter": "python",
   "pygments_lexer": "ipython3",
   "version": "3.10.4"
  }
 },
 "nbformat": 4,
 "nbformat_minor": 5
}
