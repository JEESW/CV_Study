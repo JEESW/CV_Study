{
 "cells": [
  {
   "cell_type": "markdown",
   "metadata": {},
   "source": [
    "### 1. image read, display"
   ]
  },
  {
   "cell_type": "code",
   "execution_count": null,
   "metadata": {},
   "outputs": [],
   "source": [
    "import cv2\n",
    "\n",
    "imageFile = './data/lena.jpg'\n",
    "img  = cv2.imread(imageFile)    # cv2.IMREAD_COLOR\n",
    "print(img.shape)\n",
    "\n",
    "img2 = cv2.imread(imageFile, 0) # cv2.IMREAD_GRAYSCALE\n",
    "print(img2.shape)\n",
    "\n",
    "cv2.imshow('Lena color',img)\n",
    "cv2.imshow('Lena grayscale',img2)\n",
    "\n",
    "cv2.waitKey()\n",
    "cv2.destroyAllWindows()"
   ]
  },
  {
   "cell_type": "markdown",
   "metadata": {},
   "source": [
    "### 2. image save"
   ]
  },
  {
   "cell_type": "code",
   "execution_count": null,
   "metadata": {},
   "outputs": [],
   "source": [
    "imageFile = './data/lena.jpg'\n",
    "img = cv2.imread(imageFile) # cv2.imread(imageFile, cv2.IMREAD_COLOR)\n",
    "\n",
    "cv2.imwrite('./out/Lena.bmp', img)\n",
    "cv2.imwrite('./out/Lena.png', img)\n",
    "cv2.imwrite('./out/Lena2.png',img, [cv2.IMWRITE_PNG_COMPRESSION, 9])\n",
    "cv2.imwrite('./out/Lena2.jpg', img, [cv2.IMWRITE_JPEG_QUALITY, 90])"
   ]
  },
  {
   "cell_type": "markdown",
   "metadata": {},
   "source": [
    "### 3. color image display"
   ]
  },
  {
   "cell_type": "code",
   "execution_count": null,
   "metadata": {},
   "outputs": [],
   "source": [
    "from   matplotlib import pyplot as plt\n",
    "\n",
    "imageFile = './data/lena.jpg'\n",
    "imgBGR = cv2.imread(imageFile) # cv2.IMREAD_COLOR\n",
    "plt.axis('off')\n",
    "\n",
    "imgRGB = cv2.cvtColor(imgBGR,cv2.COLOR_BGR2RGB)\n",
    "plt.imshow(imgRGB)\n",
    "#plt.imshow(imgBGR)\n",
    "plt.show()"
   ]
  },
  {
   "cell_type": "markdown",
   "metadata": {},
   "source": [
    "### 4. gray image display"
   ]
  },
  {
   "cell_type": "code",
   "execution_count": null,
   "metadata": {},
   "outputs": [],
   "source": [
    "imgGray = cv2.imread(imageFile, cv2.IMREAD_GRAYSCALE)\n",
    "plt.axis('off')\n",
    "\n",
    "plt.imshow(imgGray, cmap = \"gray\", interpolation='bicubic')\n",
    "plt.show()"
   ]
  },
  {
   "cell_type": "markdown",
   "metadata": {},
   "source": [
    "### 5. margin, image save"
   ]
  },
  {
   "cell_type": "code",
   "execution_count": null,
   "metadata": {},
   "outputs": [],
   "source": [
    "imageFile = './data/lena.jpg'\n",
    "imgGray = cv2.imread(imageFile, cv2.IMREAD_GRAYSCALE)\n",
    "\n",
    "plt.figure(figsize=(4,4))\n",
    "plt.subplots_adjust(left=0, right=0.5, bottom=0, top=0.5)\n",
    "plt.imshow(imgGray, cmap = 'gray')\n",
    "\n",
    "plt.axis('off')\n",
    "plt.show()"
   ]
  },
  {
   "cell_type": "markdown",
   "metadata": {},
   "source": [
    "### 6. subplot image display"
   ]
  },
  {
   "cell_type": "code",
   "execution_count": null,
   "metadata": {},
   "outputs": [],
   "source": [
    "path = './data/'\n",
    "\n",
    "imgBGR1 = cv2.imread(path+'lena.jpg')\n",
    "imgBGR2 = cv2.imread(path+'apple.jpg')\n",
    "imgBGR3 = cv2.imread(path+'baboon.jpg')\n",
    "imgBGR4 = cv2.imread(path+'orange.jpg')\n",
    "\n",
    "# 컬러 변환: BGR -> RGB\n",
    "imgRGB1 = cv2.cvtColor(imgBGR1, cv2.COLOR_BGR2RGB)\n",
    "imgRGB2 = cv2.cvtColor(imgBGR2, cv2.COLOR_BGR2RGB)\n",
    "imgRGB3 = cv2.cvtColor(imgBGR3, cv2.COLOR_BGR2RGB)\n",
    "imgRGB4 = cv2.cvtColor(imgBGR4, cv2.COLOR_BGR2RGB)\n",
    "\n",
    "fig, ax = plt.subplots(2, 2, figsize=(5,5), sharey=True)\n",
    "\n",
    "ax[0][0].axis('off')\n",
    "ax[0][0].imshow(imgRGB1, aspect = 'auto')\n",
    "\n",
    "ax[0][1].axis('off')\n",
    "ax[0][1].imshow(imgRGB2, aspect = 'auto')\n",
    "\n",
    "ax[1][0].axis(\"off\")\n",
    "ax[1][0].imshow(imgRGB3, aspect = \"auto\")\n",
    "\n",
    "ax[1][1].axis(\"off\")\n",
    "ax[1][1].imshow(imgRGB4, aspect = 'auto')\n",
    "\n",
    "plt.subplots_adjust(left=0, bottom=0, right=1, top=1, wspace=0.05, hspace=0.05)\n",
    "plt.show()\n"
   ]
  },
  {
   "cell_type": "code",
   "execution_count": null,
   "metadata": {},
   "outputs": [],
   "source": []
  }
 ],
 "metadata": {
  "kernelspec": {
   "display_name": "Python 3 (ipykernel)",
   "language": "python",
   "name": "python3"
  },
  "language_info": {
   "codemirror_mode": {
    "name": "ipython",
    "version": 3
   },
   "file_extension": ".py",
   "mimetype": "text/x-python",
   "name": "python",
   "nbconvert_exporter": "python",
   "pygments_lexer": "ipython3",
   "version": "3.10.4"
  }
 },
 "nbformat": 4,
 "nbformat_minor": 4
}
