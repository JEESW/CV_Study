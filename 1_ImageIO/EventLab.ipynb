{
 "cells": [
  {
   "cell_type": "code",
   "execution_count": 1,
   "id": "9812c0f3",
   "metadata": {},
   "outputs": [],
   "source": [
    "import cv2\n",
    "import numpy as np"
   ]
  },
  {
   "cell_type": "code",
   "execution_count": 2,
   "id": "590289cf",
   "metadata": {},
   "outputs": [],
   "source": [
    "def onMouse(event, x, y, flags, param):#5개의 인자 모두 사용해야함. 가늗하면 이름도 그대로 씀.\n",
    "    #event는 어떤 event인지, x, y는 포지션, flags는 다른 정보가 함께 들어 갔는지, param은 여기서 [canvas]\n",
    "    if event == cv2.EVENT_LBUTTONDOWN:\n",
    "        if flags & cv2.EVENT_FLAG_SHIFTKEY:\n",
    "            cv2.rectangle(param[0], (x - 5, y - 5), (x + 5, y + 5), (255, 0, 0))\n",
    "        else:\n",
    "            cv2.circle(param[0], (x, y), 5, (255, 0, 0), 3)\n",
    "    elif event == cv2.EVENT_RBUTTONDOWN:\n",
    "        cv2.circle(param[0], (x, y), 5, (0, 0, 255), 3)\n",
    "    elif event == cv2.EVENT_LBUTTONDBLCLK:\n",
    "        param[0] = np.zeros(param[0].shape, np.uint8) + 255\n",
    "        \n",
    "    cv2.imshow('Canvas', param[0])\n",
    "#다시 갱신해야함    "
   ]
  },
  {
   "cell_type": "code",
   "execution_count": 3,
   "id": "4a35dd69",
   "metadata": {},
   "outputs": [],
   "source": [
    "canvas = np.zeros(shape = (512, 512, 3), dtype = np.uint8) + 255\n",
    "#canvas = np.ones(shape = (512, 512, 3), dtype = np.uint8) * 255\n",
    "#canvas = np.full((512, 512, 3), (255, 255, 255), np.uint8)\n",
    "\n",
    "cv2.imshow('Canvas', canvas)\n",
    "cv2.setMouseCallback('Canvas', onMouse, [canvas])\n",
    "#마우스 이벤트가 들어오면 onMouse를 호출해줘\n",
    "#3번째 canvas는 글로벌로 선언하고 생략할수 있음.\n",
    "#imshow를 해서 canvas를 미리 만들어야 함. 안그러면 runtime error.\n",
    "cv2.waitKey()\n",
    "cv2.destroyAllWindows()"
   ]
  },
  {
   "cell_type": "code",
   "execution_count": null,
   "id": "916cbedc",
   "metadata": {},
   "outputs": [],
   "source": []
  }
 ],
 "metadata": {
  "kernelspec": {
   "display_name": "Python 3 (ipykernel)",
   "language": "python",
   "name": "python3"
  },
  "language_info": {
   "codemirror_mode": {
    "name": "ipython",
    "version": 3
   },
   "file_extension": ".py",
   "mimetype": "text/x-python",
   "name": "python",
   "nbconvert_exporter": "python",
   "pygments_lexer": "ipython3",
   "version": "3.10.4"
  }
 },
 "nbformat": 4,
 "nbformat_minor": 5
}
