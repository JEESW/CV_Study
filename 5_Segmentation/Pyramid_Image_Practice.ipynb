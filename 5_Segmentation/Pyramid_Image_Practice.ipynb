{
 "cells": [
  {
   "cell_type": "code",
   "execution_count": 1,
   "id": "c41bfecd",
   "metadata": {},
   "outputs": [],
   "source": [
    "import cv2\n",
    "import numpy as np"
   ]
  },
  {
   "cell_type": "code",
   "execution_count": 2,
   "id": "4fb4fcce",
   "metadata": {},
   "outputs": [
    {
     "name": "stdout",
     "output_type": "stream",
     "text": [
      "src1.shape= (1024, 1024, 3)\n",
      "down2.shape= (512, 512, 3)\n",
      "down4.shape= (256, 256, 3)\n"
     ]
    }
   ],
   "source": [
    "src1 = cv2.imread('../segmentation_rsc/lena1.jpg')\n",
    "down2 = cv2.pyrDown(src1)\n",
    "down4 = cv2.pyrDown(down2)\n",
    "print('src1.shape=', src1.shape)\n",
    "print('down2.shape=', down2.shape)\n",
    "print('down4.shape=', down4.shape)\n",
    "\n",
    "cv2.imshow('src1', src1)\n",
    "cv2.imshow('down2', down2)\n",
    "cv2.imshow('down4',down4)\n",
    "cv2.waitKey()\n",
    "cv2.destroyAllWindows()"
   ]
  },
  {
   "cell_type": "code",
   "execution_count": 3,
   "id": "54bdf63f",
   "metadata": {},
   "outputs": [
    {
     "name": "stdout",
     "output_type": "stream",
     "text": [
      "src2.shape= (307, 307, 3)\n",
      "up2.shape= (614, 614, 3)\n",
      "up4.shape= (1228, 1228, 3)\n"
     ]
    }
   ],
   "source": [
    "src2 = cv2.imread('../segmentation_rsc/lena2.jpg')\n",
    "up2 = cv2.pyrUp(src2)\n",
    "up4 = cv2.pyrUp(up2)\n",
    "print('src2.shape=', src2.shape)\n",
    "print('up2.shape=', up2.shape)\n",
    "print('up4.shape=', up4.shape)\n",
    "\n",
    "cv2.imshow('src2', src2)\n",
    "cv2.imshow('up2', up2)\n",
    "cv2.imshow('up4',up4)\n",
    "cv2.waitKey()\n",
    "cv2.destroyAllWindows()"
   ]
  },
  {
   "cell_type": "code",
   "execution_count": null,
   "id": "d8d17cb0",
   "metadata": {},
   "outputs": [],
   "source": []
  }
 ],
 "metadata": {
  "kernelspec": {
   "display_name": "Python 3 (ipykernel)",
   "language": "python",
   "name": "python3"
  },
  "language_info": {
   "codemirror_mode": {
    "name": "ipython",
    "version": 3
   },
   "file_extension": ".py",
   "mimetype": "text/x-python",
   "name": "python",
   "nbconvert_exporter": "python",
   "pygments_lexer": "ipython3",
   "version": "3.10.4"
  }
 },
 "nbformat": 4,
 "nbformat_minor": 5
}
