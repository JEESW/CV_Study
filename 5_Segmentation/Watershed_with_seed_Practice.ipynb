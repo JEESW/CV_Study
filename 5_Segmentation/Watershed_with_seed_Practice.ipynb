{
 "cells": [
  {
   "cell_type": "code",
   "execution_count": 1,
   "id": "b90bc496",
   "metadata": {},
   "outputs": [],
   "source": [
    "import cv2\n",
    "import numpy as np\n",
    "import matplotlib.pyplot as plt"
   ]
  },
  {
   "cell_type": "code",
   "execution_count": 2,
   "id": "c3a46e4d",
   "metadata": {},
   "outputs": [],
   "source": [
    "def onMouse(event, x, y, flags, param):\n",
    "    if event == cv2.EVENT_MOUSEMOVE:\n",
    "        if flags & cv2.EVENT_FLAG_LBUTTON:\n",
    "            cv2.circle(param[0], (x, y), 10, (255, 255, 255), -1)\n",
    "            cv2.circle(param[1], (x, y), 10, (255, 255, 255), -1)\n",
    "            cv2.imshow('dst', param[1])"
   ]
  },
  {
   "cell_type": "code",
   "execution_count": 3,
   "id": "0037fc74",
   "metadata": {},
   "outputs": [
    {
     "name": "stdout",
     "output_type": "stream",
     "text": [
      "len(contours)=2\n",
      "len(contours)=3\n"
     ]
    },
    {
     "ename": "error",
     "evalue": "OpenCV(4.6.0) D:\\a\\opencv-python\\opencv-python\\opencv\\modules\\highgui\\src\\window_w32.cpp:2563: error: (-27:Null pointer) NULL window: 'dst' in function 'cvSetMouseCallback'\n",
     "output_type": "error",
     "traceback": [
      "\u001b[1;31m---------------------------------------------------------------------------\u001b[0m",
      "\u001b[1;31merror\u001b[0m                                     Traceback (most recent call last)",
      "Input \u001b[1;32mIn [3]\u001b[0m, in \u001b[0;36m<cell line: 10>\u001b[1;34m()\u001b[0m\n\u001b[0;32m      8\u001b[0m method \u001b[38;5;241m=\u001b[39m cv2\u001b[38;5;241m.\u001b[39mCHAIN_APPROX_NONE\n\u001b[0;32m     10\u001b[0m \u001b[38;5;28;01mwhile\u001b[39;00m \u001b[38;5;28;01mTrue\u001b[39;00m:\n\u001b[1;32m---> 11\u001b[0m     \u001b[43mcv2\u001b[49m\u001b[38;5;241;43m.\u001b[39;49m\u001b[43msetMouseCallback\u001b[49m\u001b[43m(\u001b[49m\u001b[38;5;124;43m'\u001b[39;49m\u001b[38;5;124;43mdst\u001b[39;49m\u001b[38;5;124;43m'\u001b[39;49m\u001b[43m,\u001b[49m\u001b[43m \u001b[49m\u001b[43monMouse\u001b[49m\u001b[43m,\u001b[49m\u001b[43m \u001b[49m\u001b[43m[\u001b[49m\u001b[43mmask\u001b[49m\u001b[43m,\u001b[49m\u001b[43m \u001b[49m\u001b[43mdst\u001b[49m\u001b[43m]\u001b[49m\u001b[43m)\u001b[49m\n\u001b[0;32m     12\u001b[0m     key \u001b[38;5;241m=\u001b[39m cv2\u001b[38;5;241m.\u001b[39mwaitKey(\u001b[38;5;241m30\u001b[39m)\n\u001b[0;32m     14\u001b[0m     \u001b[38;5;28;01mif\u001b[39;00m key \u001b[38;5;241m==\u001b[39m \u001b[38;5;241m0x18\u001b[39m:\u001b[38;5;66;03m# esc키 누르면 break\u001b[39;00m\n",
      "\u001b[1;31merror\u001b[0m: OpenCV(4.6.0) D:\\a\\opencv-python\\opencv-python\\opencv\\modules\\highgui\\src\\window_w32.cpp:2563: error: (-27:Null pointer) NULL window: 'dst' in function 'cvSetMouseCallback'\n"
     ]
    }
   ],
   "source": [
    "src = cv2.imread('../segmentation_rsc/hand_paper.jpg')\n",
    "mask = np.zeros(shape = src.shape[:2], dtype = np.uint8)\n",
    "markers = np.zeros(shape = src.shape[:2], dtype = np.int32)\n",
    "dst = src.copy()\n",
    "cv2.imshow('dst', dst)\n",
    "\n",
    "mode = cv2.RETR_EXTERNAL\n",
    "method = cv2.CHAIN_APPROX_NONE\n",
    "\n",
    "while True:\n",
    "    cv2.setMouseCallback('dst', onMouse, [mask, dst])\n",
    "    key = cv2.waitKey(30)\n",
    "    \n",
    "    if key == 0x18:# esc키 누르면 break\n",
    "        break\n",
    "    elif key == ord('r'):# r키 누르면 리셋 (ord() unicord로 변환해 줌)\n",
    "        mask[:, :] = 0\n",
    "        dst = src.copy()\n",
    "        cv2.imshow('dst', dst)\n",
    "    elif key == ord(' '):# 스페이스 바 누르면 시드를 설정하고 watershed 결과 출력\n",
    "        # 시드 설정\n",
    "        contours, hierarchy = cv2.findContours(mask, mode, method)\n",
    "        print(f'len(contours)={len(contours)}')\n",
    "        markers[:, :] = 0\n",
    "        for i, cnt in enumerate(contours):\n",
    "            cv2.drawContours(markers, [cnt], 0, i + 1, -1)\n",
    "        # watershed\n",
    "        cv2.watershed(src, markers)\n",
    "        # 결과 그리기\n",
    "        dst = src.copy()\n",
    "        dst[markers == -1] = [0, 0, 255]# 경계선을 빨갛게 표시\n",
    "        for i in range(len(contours)):\n",
    "            r = np.random.randint(256)\n",
    "            g = np.random.randint(256)\n",
    "            b = np.random.randint(256)\n",
    "            dst[markers == i + 1] = [b, g, r]\n",
    "            dst = cv2.addWeighted(src, .5, dst, .5, 0)\n",
    "            cv2.imshow('dst', dst)\n",
    "cv2.destroyAllWindows()"
   ]
  },
  {
   "cell_type": "code",
   "execution_count": null,
   "id": "ff48cea3",
   "metadata": {},
   "outputs": [],
   "source": []
  }
 ],
 "metadata": {
  "kernelspec": {
   "display_name": "Python 3 (ipykernel)",
   "language": "python",
   "name": "python3"
  },
  "language_info": {
   "codemirror_mode": {
    "name": "ipython",
    "version": 3
   },
   "file_extension": ".py",
   "mimetype": "text/x-python",
   "name": "python",
   "nbconvert_exporter": "python",
   "pygments_lexer": "ipython3",
   "version": "3.10.4"
  }
 },
 "nbformat": 4,
 "nbformat_minor": 5
}
