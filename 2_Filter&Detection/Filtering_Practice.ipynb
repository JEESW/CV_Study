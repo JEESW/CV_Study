{
 "cells": [
  {
   "cell_type": "code",
   "execution_count": 4,
   "id": "97026041",
   "metadata": {},
   "outputs": [],
   "source": [
    "import cv2\n",
    "import numpy as np"
   ]
  },
  {
   "cell_type": "code",
   "execution_count": 6,
   "id": "d2e68444",
   "metadata": {},
   "outputs": [],
   "source": [
    "src = cv2.imread('../1/lena.jpg', cv2.IMREAD_GRAYSCALE)# 블러처리할땐 보통 그레이스케일 씀\n",
    "\n",
    "filter1 = cv2.GaussianBlur(src, ksize=(7, 7), sigmaX=.0)\n",
    "filter2 = cv2.GaussianBlur(src, ksize=(15, 15), sigmaX=5.0)\n",
    "\n",
    "cv2.imshow('filter1', filter1)\n",
    "cv2.imshow('filter2', filter2)\n",
    "cv2.waitKey()\n",
    "cv2.destroyAllWindows()"
   ]
  },
  {
   "cell_type": "code",
   "execution_count": 9,
   "id": "1d8109ec",
   "metadata": {},
   "outputs": [],
   "source": [
    "filter3 = cv2.bilateralFilter(src, d=-1, sigmaColor=10, sigmaSpace=10)#d=depth, 바이레터럴은 가우시안 2번 씀(space공간+칼라(밝기)공간)\n",
    "cv2.imshow('filter2', filter2)\n",
    "cv2.imshow('filter3', filter3)\n",
    "cv2.waitKey()\n",
    "cv2.destroyAllWindows()"
   ]
  },
  {
   "cell_type": "code",
   "execution_count": 12,
   "id": "bc779dc7",
   "metadata": {},
   "outputs": [],
   "source": [
    "srcn = cv2.imread('../1/lena_gray_noise.jpg', cv2.IMREAD_GRAYSCALE)\n",
    "\n",
    "dst1 = cv2.GaussianBlur(srcn, ksize=(7, 7), sigmaX=3.0)\n",
    "dst2 = cv2.bilateralFilter(srcn, d=-1, sigmaColor=5, sigmaSpace=5)\n",
    "dst3 = cv2.medianBlur(srcn, ksize=3)\n",
    "\n",
    "cv2.imshow('dst1', dst1)\n",
    "cv2.imshow('dst2', dst2)\n",
    "cv2.imshow('dst3', dst3)\n",
    "cv2.waitKey()\n",
    "cv2.destroyAllWindows()"
   ]
  },
  {
   "cell_type": "code",
   "execution_count": null,
   "id": "8760611d",
   "metadata": {},
   "outputs": [],
   "source": []
  }
 ],
 "metadata": {
  "kernelspec": {
   "display_name": "Python 3 (ipykernel)",
   "language": "python",
   "name": "python3"
  },
  "language_info": {
   "codemirror_mode": {
    "name": "ipython",
    "version": 3
   },
   "file_extension": ".py",
   "mimetype": "text/x-python",
   "name": "python",
   "nbconvert_exporter": "python",
   "pygments_lexer": "ipython3",
   "version": "3.10.4"
  }
 },
 "nbformat": 4,
 "nbformat_minor": 5
}
