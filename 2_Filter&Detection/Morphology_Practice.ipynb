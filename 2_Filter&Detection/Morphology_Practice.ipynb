{
 "cells": [
  {
   "cell_type": "code",
   "execution_count": 1,
   "id": "02a7e253",
   "metadata": {},
   "outputs": [],
   "source": [
    "import cv2\n",
    "import numpy as np"
   ]
  },
  {
   "cell_type": "code",
   "execution_count": 6,
   "id": "c10ddc68",
   "metadata": {},
   "outputs": [],
   "source": [
    "src = cv2.imread('../1/morphology.jpg', cv2.IMREAD_GRAYSCALE)\n",
    "kernal = cv2.getStructuringElement(shape=cv2.MORPH_RECT, ksize=(3,3))#kernal은 filter모양 여기선 3by3정사각형\n",
    "er = cv2.erode(src, kernal, iterations=5)\n",
    "di = cv2.dilate(src, kernal, iterations=5)\n",
    "erodes = cv2.erode(di, kernal, iterations=7)#close연산\n",
    "\n",
    "cv2.imshow('src', src)\n",
    "cv2.imshow('erode', er)\n",
    "cv2.imshow('dilate', di)\n",
    "cv2.imshow('dilate_erode', erodes)\n",
    "cv2.waitKey()\n",
    "cv2.destroyAllWindows()"
   ]
  },
  {
   "cell_type": "code",
   "execution_count": null,
   "id": "aff05630",
   "metadata": {},
   "outputs": [],
   "source": []
  },
  {
   "cell_type": "code",
   "execution_count": null,
   "id": "9f9ff2cf",
   "metadata": {},
   "outputs": [],
   "source": []
  }
 ],
 "metadata": {
  "kernelspec": {
   "display_name": "Python 3 (ipykernel)",
   "language": "python",
   "name": "python3"
  },
  "language_info": {
   "codemirror_mode": {
    "name": "ipython",
    "version": 3
   },
   "file_extension": ".py",
   "mimetype": "text/x-python",
   "name": "python",
   "nbconvert_exporter": "python",
   "pygments_lexer": "ipython3",
   "version": "3.10.4"
  }
 },
 "nbformat": 4,
 "nbformat_minor": 5
}
