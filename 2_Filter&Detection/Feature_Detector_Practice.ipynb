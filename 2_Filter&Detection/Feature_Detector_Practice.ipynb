{
 "cells": [
  {
   "cell_type": "code",
   "execution_count": 1,
   "id": "f9d2b178",
   "metadata": {},
   "outputs": [],
   "source": [
    "import cv2\n",
    "import numpy as np"
   ]
  },
  {
   "cell_type": "code",
   "execution_count": 5,
   "id": "ee158bb0",
   "metadata": {},
   "outputs": [
    {
     "name": "stdout",
     "output_type": "stream",
     "text": [
      "# of keypoint = 167\n"
     ]
    }
   ],
   "source": [
    "src = cv2.imread('../1/chessBoard.jpg')\n",
    "gray = cv2.cvtColor(src, cv2.COLOR_BGR2GRAY)\n",
    "\n",
    "####fastfeature detector\n",
    "fastF = cv2.FastFeatureDetector_create()\n",
    "kp = fastF.detect(gray)\n",
    "dst = cv2.drawKeypoints(gray, kp, None, color=(0, 0, 255))\n",
    "print(f'# of keypoint = {len(kp)}')\n",
    "\n",
    "cv2.imshow('keypoints', dst)\n",
    "cv2.waitKey()\n",
    "cv2.destroyAllWindows()"
   ]
  },
  {
   "cell_type": "code",
   "execution_count": 7,
   "id": "d4b07783",
   "metadata": {},
   "outputs": [
    {
     "name": "stdout",
     "output_type": "stream",
     "text": [
      "# of keypoint = 202\n"
     ]
    }
   ],
   "source": [
    "####MSER\n",
    "src = cv2.imread('../1/chessBoard.jpg')\n",
    "gray = cv2.cvtColor(src, cv2.COLOR_BGR2GRAY)\n",
    "\n",
    "mserF = cv2.MSER_create(10)#threshold 값\n",
    "kp = mserF.detect(gray)\n",
    "dst = cv2.drawKeypoints(gray, kp, None, color=(0, 0, 255))\n",
    "print(f'# of keypoint = {len(kp)}')\n",
    "\n",
    "cv2.imshow('keypoints', dst)\n",
    "cv2.waitKey()\n",
    "cv2.destroyAllWindows()"
   ]
  },
  {
   "cell_type": "code",
   "execution_count": 8,
   "id": "e7b7d043",
   "metadata": {},
   "outputs": [
    {
     "name": "stdout",
     "output_type": "stream",
     "text": [
      "# of keypoint = 14\n"
     ]
    }
   ],
   "source": [
    "### SimpleBlobDetector\n",
    "src = cv2.imread('../1/chessBoard.jpg')\n",
    "gray = cv2.cvtColor(src, cv2.COLOR_BGR2GRAY)\n",
    "\n",
    "blobF = cv2.SimpleBlobDetector_create()\n",
    "kp = blobF.detect(gray)\n",
    "dst = cv2.drawKeypoints(gray, kp, None, color=(0, 0, 255))\n",
    "print(f'# of keypoint = {len(kp)}')\n",
    "\n",
    "cv2.imshow('keypoints', dst)\n",
    "cv2.waitKey()\n",
    "cv2.destroyAllWindows()"
   ]
  },
  {
   "cell_type": "code",
   "execution_count": 9,
   "id": "bf4be288",
   "metadata": {},
   "outputs": [
    {
     "name": "stdout",
     "output_type": "stream",
     "text": [
      "# of keypoint = 8\n"
     ]
    }
   ],
   "source": [
    "### GFTTDetector\n",
    "src = cv2.imread('../1/CornerTest.jpg')\n",
    "gray = cv2.cvtColor(src, cv2.COLOR_BGR2GRAY)\n",
    "\n",
    "goodF = cv2.GFTTDetector_create()\n",
    "kp = goodF.detect(gray)\n",
    "dst = cv2.drawKeypoints(gray, kp, None, color=(0, 0, 255))\n",
    "print(f'# of keypoint = {len(kp)}')\n",
    "\n",
    "cv2.imshow('keypoints', dst)\n",
    "cv2.waitKey()\n",
    "cv2.destroyAllWindows()"
   ]
  },
  {
   "cell_type": "code",
   "execution_count": 12,
   "id": "033f312f",
   "metadata": {},
   "outputs": [
    {
     "name": "stdout",
     "output_type": "stream",
     "text": [
      "# of keypoint = 63\n"
     ]
    }
   ],
   "source": [
    "### ORB\n",
    "src = cv2.imread('../1/CornerTest.jpg')\n",
    "gray = cv2.cvtColor(src, cv2.COLOR_BGR2GRAY)\n",
    "gray = cv2.GaussianBlur(gray, (5, 5), .0)\n",
    "\n",
    "orbF = cv2.ORB_create()\n",
    "kp = orbF.detect(gray)\n",
    "dst = cv2.drawKeypoints(gray, kp, None, color=(0, 0, 255))\n",
    "print(f'# of keypoint = {len(kp)}')\n",
    "\n",
    "cv2.imshow('keypoints', dst)\n",
    "cv2.waitKey()\n",
    "cv2.destroyAllWindows()"
   ]
  },
  {
   "cell_type": "code",
   "execution_count": 13,
   "id": "291062a9",
   "metadata": {},
   "outputs": [
    {
     "name": "stdout",
     "output_type": "stream",
     "text": [
      "# of keypoint = 27\n"
     ]
    }
   ],
   "source": [
    "### BRISK\n",
    "src = cv2.imread('../1/CornerTest.jpg')\n",
    "gray = cv2.cvtColor(src, cv2.COLOR_BGR2GRAY)\n",
    "gray = cv2.GaussianBlur(gray, (5, 5), .0)\n",
    "\n",
    "briskF = cv2.BRISK_create()\n",
    "kp = briskF.detect(gray)\n",
    "dst = cv2.drawKeypoints(gray, kp, None, color=(0, 0, 255))\n",
    "print(f'# of keypoint = {len(kp)}')\n",
    "\n",
    "cv2.imshow('keypoints', dst)\n",
    "cv2.waitKey()\n",
    "cv2.destroyAllWindows()"
   ]
  },
  {
   "cell_type": "code",
   "execution_count": 16,
   "id": "1cea4bca",
   "metadata": {},
   "outputs": [
    {
     "name": "stdout",
     "output_type": "stream",
     "text": [
      "# of keypoint = 24\n"
     ]
    }
   ],
   "source": [
    "### KAZE\n",
    "src = cv2.imread('../1/CornerTest.jpg')\n",
    "gray = cv2.cvtColor(src, cv2.COLOR_BGR2GRAY)\n",
    "\n",
    "kazeF = cv2.KAZE_create()\n",
    "kp = kazeF.detect(gray)\n",
    "dst = cv2.drawKeypoints(gray, kp, None, color=(0, 0, 255))\n",
    "print(f'# of keypoint = {len(kp)}')\n",
    "\n",
    "cv2.imshow('keypoints', dst)\n",
    "cv2.waitKey()\n",
    "cv2.destroyAllWindows()"
   ]
  },
  {
   "cell_type": "code",
   "execution_count": null,
   "id": "9c09b6c3",
   "metadata": {},
   "outputs": [],
   "source": []
  }
 ],
 "metadata": {
  "kernelspec": {
   "display_name": "Python 3 (ipykernel)",
   "language": "python",
   "name": "python3"
  },
  "language_info": {
   "codemirror_mode": {
    "name": "ipython",
    "version": 3
   },
   "file_extension": ".py",
   "mimetype": "text/x-python",
   "name": "python",
   "nbconvert_exporter": "python",
   "pygments_lexer": "ipython3",
   "version": "3.10.4"
  }
 },
 "nbformat": 4,
 "nbformat_minor": 5
}
