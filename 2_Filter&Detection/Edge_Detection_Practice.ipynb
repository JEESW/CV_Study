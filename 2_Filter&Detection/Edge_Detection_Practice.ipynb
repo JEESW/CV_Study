{
 "cells": [
  {
   "cell_type": "code",
   "execution_count": 1,
   "id": "b8145fa7",
   "metadata": {},
   "outputs": [],
   "source": [
    "import cv2\n",
    "import numpy as np\n",
    "import imutils"
   ]
  },
  {
   "cell_type": "code",
   "execution_count": 3,
   "id": "1e3a4f35",
   "metadata": {},
   "outputs": [],
   "source": [
    "src=cv2.imread('../1/lena.jpg', cv2.IMREAD_GRAYSCALE)\n",
    "\n",
    "edges1 = cv2.Canny(src, 50, 100)#두 세번째 인자는 threshold low/high\n",
    "edges2 = cv2.Canny(src, 50, 200)\n",
    "\n",
    "cv2.imshow('src', src)\n",
    "cv2.imshow('edges1', edges1)\n",
    "cv2.imshow('edges2', edges2)\n",
    "cv2.waitKey()\n",
    "cv2.destroyAllWindows()"
   ]
  },
  {
   "cell_type": "code",
   "execution_count": null,
   "id": "2d0fa893",
   "metadata": {},
   "outputs": [],
   "source": []
  }
 ],
 "metadata": {
  "kernelspec": {
   "display_name": "Python 3 (ipykernel)",
   "language": "python",
   "name": "python3"
  },
  "language_info": {
   "codemirror_mode": {
    "name": "ipython",
    "version": 3
   },
   "file_extension": ".py",
   "mimetype": "text/x-python",
   "name": "python",
   "nbconvert_exporter": "python",
   "pygments_lexer": "ipython3",
   "version": "3.10.4"
  }
 },
 "nbformat": 4,
 "nbformat_minor": 5
}
