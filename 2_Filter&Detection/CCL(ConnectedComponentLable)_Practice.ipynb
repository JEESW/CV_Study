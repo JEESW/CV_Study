{
 "cells": [
  {
   "cell_type": "code",
   "execution_count": 1,
   "id": "1c46f471",
   "metadata": {},
   "outputs": [],
   "source": [
    "import cv2\n",
    "import numpy as np"
   ]
  },
  {
   "cell_type": "code",
   "execution_count": 2,
   "id": "52ac70d0",
   "metadata": {},
   "outputs": [],
   "source": [
    "src = cv2.imread('../1/circles.jpg')#두번째 인자 Default는 Color\n",
    "gray = cv2.cvtColor(src, cv2.COLOR_BGR2GRAY)\n",
    "ret, res = cv2.threshold(gray, 128, 255, cv2.THRESH_BINARY_INV)\n",
    "\n",
    "cv2.imshow('src', src)\n",
    "cv2.imshow('res', res)\n",
    "cv2.waitKey()\n",
    "cv2.destroyAllWindows()"
   ]
  },
  {
   "cell_type": "code",
   "execution_count": 3,
   "id": "40d4248d",
   "metadata": {},
   "outputs": [
    {
     "name": "stdout",
     "output_type": "stream",
     "text": [
      "ret= 4\n",
      "stats= [[     0      0    512    512 222719]\n",
      " [   308     86    125    125  12281]\n",
      " [   153    145    152    152  18152]\n",
      " [   292    338    107    107   8992]]\n",
      "centroids= [[247.77339607 258.80937863]\n",
      " [370.         148.        ]\n",
      " [228.5        220.50534376]\n",
      " [345.00077847 390.99477313]]\n"
     ]
    }
   ],
   "source": [
    "ret, labels, stats, centroids = cv2.connectedComponentsWithStats(res)#ret은 컴포넌트 개수(하나는 백그라운드), stats는 각 컴포넌트의 바운딩 박스, centroids는 각 컴포넌트의 중점\n",
    "print('ret=', ret)\n",
    "print('stats=', stats)\n",
    "print('centroids=', centroids)"
   ]
  },
  {
   "cell_type": "code",
   "execution_count": 4,
   "id": "ee2856f5",
   "metadata": {},
   "outputs": [],
   "source": [
    "dst = np.zeros(src.shape, dtype=src.dtype)\n",
    "for i in range(1, int(ret)):\n",
    "    r = np.random.randint(256)\n",
    "    g = np.random.randint(256)\n",
    "    b = np.random.randint(256)\n",
    "    dst[labels==i] = [b, g, r]#label이 i일때 dst에 색을 넣어라."
   ]
  },
  {
   "cell_type": "code",
   "execution_count": 5,
   "id": "63c9e869",
   "metadata": {},
   "outputs": [],
   "source": [
    "for i in range(1, int(ret)):\n",
    "    x, y, w, h, a = stats[i]\n",
    "    cv2.rectangle(dst, (x,y), (x+w, y+h), (0,0,255), 2)\n",
    "    cx, cy = centroids[i]\n",
    "    cv2.circle(dst, (int(cx), int(cy)), 5, (255,0,0),-1)\n",
    "    \n",
    "cv2.imshow('src', src)\n",
    "cv2.imshow('dst', dst)\n",
    "cv2.waitKey()\n",
    "cv2.destroyAllWindows()"
   ]
  },
  {
   "cell_type": "code",
   "execution_count": null,
   "id": "7ccc95a4",
   "metadata": {},
   "outputs": [],
   "source": []
  }
 ],
 "metadata": {
  "kernelspec": {
   "display_name": "Python 3 (ipykernel)",
   "language": "python",
   "name": "python3"
  },
  "language_info": {
   "codemirror_mode": {
    "name": "ipython",
    "version": 3
   },
   "file_extension": ".py",
   "mimetype": "text/x-python",
   "name": "python",
   "nbconvert_exporter": "python",
   "pygments_lexer": "ipython3",
   "version": "3.10.4"
  }
 },
 "nbformat": 4,
 "nbformat_minor": 5
}
