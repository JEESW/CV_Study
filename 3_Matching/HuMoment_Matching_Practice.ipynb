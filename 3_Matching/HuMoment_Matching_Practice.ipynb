{
 "cells": [
  {
   "cell_type": "code",
   "execution_count": 1,
   "id": "edae654b",
   "metadata": {},
   "outputs": [],
   "source": [
    "import cv2\n",
    "import numpy as np"
   ]
  },
  {
   "cell_type": "code",
   "execution_count": 2,
   "id": "a713a85c",
   "metadata": {},
   "outputs": [],
   "source": [
    "ref_src = cv2.imread('../1/refShapes.jpg')\n",
    "ref_gray = cv2.cvtColor(ref_src, cv2.COLOR_BGR2GRAY)\n",
    "ret, ref_bin = cv2.threshold(ref_gray, 0, 255, cv2.THRESH_BINARY_INV+cv2.THRESH_OTSU)#OTSU는 자동으로 쓰레쉬 홀드를 계산해주는 방법 중 하나\n",
    "\n",
    "test_src = cv2.imread('../1/testShapes.jpg')\n",
    "test_gray = cv2.cvtColor(test_src, cv2.COLOR_BGR2GRAY)\n",
    "ret, test_bin = cv2.threshold(test_gray, 0, 255, cv2.THRESH_BINARY_INV+cv2.THRESH_OTSU)#OTSU는 자동으로 쓰레쉬 홀드를 계산해주는 방법 중 하나\n"
   ]
  },
  {
   "cell_type": "code",
   "execution_count": 3,
   "id": "98d5097b",
   "metadata": {},
   "outputs": [],
   "source": [
    "mode = cv2.RETR_EXTERNAL\n",
    "method = cv2.CHAIN_APPROX_SIMPLE\n",
    "ref_contours, _ = cv2.findContours(ref_bin, mode, method)\n",
    "test_contours, _ = cv2.findContours(test_bin, mode, method)"
   ]
  },
  {
   "cell_type": "code",
   "execution_count": 5,
   "id": "46e459e8",
   "metadata": {},
   "outputs": [],
   "source": [
    "ref_dst = ref_src.copy()#용량이 많아지면 카피하는 것이 비효율적임\n",
    "colors = ((0, 0, 255), (0, 255, 0), (255, 0, 0))\n",
    "for i, cnt in enumerate(ref_contours):# enumarate로 contour 정보 3개를 하나씩 인덱스데로 가져올 수 있음\n",
    "    cv2.drawContours(ref_dst, [cnt], 0, colors[i], 2)\n",
    "    \n",
    "test_dst = test_src.copy()\n",
    "method = cv2.CONTOURS_MATCH_I1\n",
    "for i, cnt1 in enumerate(test_contours):\n",
    "    matches = []\n",
    "    for cnt2 in ref_contours:\n",
    "        ret = cv2.matchShapes(cnt1, cnt2, method, 0)\n",
    "        matches.append(ret)\n",
    "    k = np.argmin(matches)\n",
    "    cv2.drawContours(test_dst, [cnt1], 0, colors[k], 2)"
   ]
  },
  {
   "cell_type": "code",
   "execution_count": 6,
   "id": "304b0a48",
   "metadata": {},
   "outputs": [],
   "source": [
    "cv2.imshow('ref_dst', ref_dst)\n",
    "cv2.imshow('test_dst', test_dst)\n",
    "cv2.waitKey()\n",
    "cv2.destroyAllWindows()"
   ]
  },
  {
   "cell_type": "code",
   "execution_count": null,
   "id": "bd5cc3a9",
   "metadata": {},
   "outputs": [],
   "source": []
  }
 ],
 "metadata": {
  "kernelspec": {
   "display_name": "Python 3 (ipykernel)",
   "language": "python",
   "name": "python3"
  },
  "language_info": {
   "codemirror_mode": {
    "name": "ipython",
    "version": 3
   },
   "file_extension": ".py",
   "mimetype": "text/x-python",
   "name": "python",
   "nbconvert_exporter": "python",
   "pygments_lexer": "ipython3",
   "version": "3.10.4"
  }
 },
 "nbformat": 4,
 "nbformat_minor": 5
}
