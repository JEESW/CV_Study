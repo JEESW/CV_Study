{
 "cells": [
  {
   "cell_type": "code",
   "execution_count": 1,
   "id": "ea81aeb3",
   "metadata": {},
   "outputs": [],
   "source": [
    "import os\n",
    "import cv2\n",
    "import numpy as np\n",
    "import glob"
   ]
  },
  {
   "cell_type": "code",
   "execution_count": 2,
   "id": "4bbbdbef",
   "metadata": {},
   "outputs": [],
   "source": [
    "# image folder 생성\n",
    "if not os.path.isdir('images'):\n",
    "    os.mkdir('images')"
   ]
  },
  {
   "cell_type": "code",
   "execution_count": 3,
   "id": "d4d6c8fd",
   "metadata": {},
   "outputs": [],
   "source": [
    "# src.mp4 동영상으로 부터 이미지 프레임 추출\n",
    "src_idx = 0# 소스 프레임이 몇 번째인지 인덱스 설정\n",
    "cap1 = cv2.VideoCapture('../1/src.mp4')\n",
    "while True:\n",
    "    retval, frame = cap1.read()\n",
    "    if not retval:\n",
    "        break\n",
    "    file_name = f'./images/src/src_{src_idx:03d}.jpg'# 프레임별로 인덱스를 정하기 위함.\n",
    "    cv2.imwrite(file_name, frame)\n",
    "    src_idx += 1\n",
    "\n",
    "if cap1.isOpened():\n",
    "    cap1.release()"
   ]
  },
  {
   "cell_type": "code",
   "execution_count": 4,
   "id": "6ab9d272",
   "metadata": {},
   "outputs": [],
   "source": [
    "# dst.mp4 동영상으로 부터 이미지 프레임 추출\n",
    "dst_idx = 0\n",
    "cap2 = cv2.VideoCapture('../1/dst.mp4')\n",
    "while True:\n",
    "    retval, frame = cap2.read()\n",
    "    if not retval:\n",
    "        break\n",
    "    file_name = f'./images/dst/dst_{dst_idx:03d}.jpg'\n",
    "    cv2.imwrite(file_name, frame)\n",
    "    dst_idx += 1\n",
    "\n",
    "if cap2.isOpened():\n",
    "    cap2.release()"
   ]
  },
  {
   "cell_type": "code",
   "execution_count": 5,
   "id": "fb7bc2b2",
   "metadata": {},
   "outputs": [
    {
     "name": "stdout",
     "output_type": "stream",
     "text": [
      "[[ 2.10922464e-01  1.21207918e-02  2.32000000e+02]\n",
      " [-1.86268350e-02  3.09197640e-01  1.00000000e+02]\n",
      " [-1.34477700e-04  2.77860572e-05  1.00000000e+00]]\n"
     ]
    }
   ],
   "source": [
    "# homography 계산\n",
    "pts_src = np.array([[0, 0], [1279, 0], [1279, 719], [0, 719]])# 1 뺀값 (해당 영상은 1280x720 src영상을 dst영상에 붙이기 위함)\n",
    "pts_dst = np.array([[232, 100],[606, 92],[602, 352],[236, 316]])# dst영상에서 src영상을 붙일 영역\n",
    "h, status = cv2.findHomography(pts_src, pts_dst)\n",
    "print(h)"
   ]
  },
  {
   "cell_type": "code",
   "execution_count": 6,
   "id": "3eb57018",
   "metadata": {},
   "outputs": [],
   "source": [
    "# 이미지 합성 함수\n",
    "def synthesize(im_src, im_dst):\n",
    "    im_warp = cv2.warpPerspective(im_src, h, (im_dst.shape[1], im_dst.shape[0]))\n",
    "    cv2.fillConvexPoly(im_dst, pts_dst.astype(int), (0, 0, 0), cv2.LINE_AA)\n",
    "    return im_warp + im_dst"
   ]
  },
  {
   "cell_type": "code",
   "execution_count": 7,
   "id": "b72d368d",
   "metadata": {},
   "outputs": [],
   "source": [
    "# 프레임별 이미지 합성\n",
    "file_num = min(len(glob.glob(\"./images/src/src*.jpg\")), len(glob.glob(\"./images/dst/dst*.jpg\")))\n",
    "for i in range(file_num):\n",
    "    im_src = cv2.imread(\"./images/src/src_\" + str(i).zfill(3) + \".jpg\")\n",
    "    im_dst = cv2.imread(\"./images/dst/dst_\" + str(i).zfill(3) + \".jpg\")\n",
    "    im_comp = synthesize(im_src, im_dst)\n",
    "    \n",
    "    cv2.imwrite(\"./images/synth/synth_\" + str(i).zfill(3) + \".jpg\", im_comp)"
   ]
  },
  {
   "cell_type": "code",
   "execution_count": 9,
   "id": "7b4e708d",
   "metadata": {},
   "outputs": [],
   "source": [
    "# 최종 동영상 생성\n",
    "file_list = os.listdir(\"./images/synth\")\n",
    "fps = 20# fps 설정\n",
    "fcc = cv2.VideoWriter_fourcc('D', 'I', 'V', 'X')# 코덱 설정\n",
    "width = 854\n",
    "height = 480\n",
    "\n",
    "out = cv2.VideoWriter('virtualboard.avi', fcc, fps, (width, height))\n",
    "for f in file_list:\n",
    "    fn = f'./images/synth/{f}'\n",
    "    img = cv2.imread(fn)\n",
    "    out.write(img)\n",
    "    \n",
    "out.release()"
   ]
  },
  {
   "cell_type": "code",
   "execution_count": null,
   "id": "d34a9d8d",
   "metadata": {},
   "outputs": [],
   "source": []
  }
 ],
 "metadata": {
  "kernelspec": {
   "display_name": "Python 3 (ipykernel)",
   "language": "python",
   "name": "python3"
  },
  "language_info": {
   "codemirror_mode": {
    "name": "ipython",
    "version": 3
   },
   "file_extension": ".py",
   "mimetype": "text/x-python",
   "name": "python",
   "nbconvert_exporter": "python",
   "pygments_lexer": "ipython3",
   "version": "3.10.4"
  }
 },
 "nbformat": 4,
 "nbformat_minor": 5
}
