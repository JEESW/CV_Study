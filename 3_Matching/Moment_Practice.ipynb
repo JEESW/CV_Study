{
 "cells": [
  {
   "cell_type": "code",
   "execution_count": 1,
   "id": "972ef5ec",
   "metadata": {},
   "outputs": [],
   "source": [
    "import cv2\n",
    "import numpy as np\n",
    "import imutils"
   ]
  },
  {
   "cell_type": "code",
   "execution_count": 2,
   "id": "44966d07",
   "metadata": {},
   "outputs": [],
   "source": [
    "src = cv2.imread('../1/momentTest.jpg')\n",
    "gray = cv2.cvtColor(src, cv2.COLOR_BGR2GRAY)\n",
    "ret, bimage = cv2.threshold(gray, 128, 255, cv2.THRESH_BINARY)#바이너리 이미지로\n",
    "\n",
    "mode = cv2.RETR_EXTERNAL\n",
    "method = cv2.CHAIN_APPROX_SIMPLE#꼭지점만 저장\n",
    "contours, _ = cv2.findContours(bimage, mode, method)\n",
    "\n",
    "dst = src.copy()\n",
    "cnt = contours[0]\n",
    "cv2.drawContours(dst, [cnt], 0, (255, 0, 0), 3)\n",
    "\n",
    "cv2.imshow('contour', dst)\n",
    "cv2.waitKey()\n",
    "cv2.destroyAllWindows()"
   ]
  },
  {
   "cell_type": "code",
   "execution_count": 4,
   "id": "c97e696b",
   "metadata": {},
   "outputs": [
    {
     "name": "stdout",
     "output_type": "stream",
     "text": [
      "hu.shape=(7, 1)\n",
      "hu=[[ 1.72272960e-01]\n",
      " [ 2.17960438e-03]\n",
      " [ 9.24428655e-05]\n",
      " [ 1.90785217e-06]\n",
      " [ 1.11977849e-12]\n",
      " [-6.96325160e-09]\n",
      " [-2.53121609e-11]]\n"
     ]
    }
   ],
   "source": [
    "M = cv2.moments(cnt)# Contour를 이용하여 모멘트 계산\n",
    "hu = cv2.HuMoments(M)#휴 모멘트 7개 계산\n",
    "print(f'hu.shape={hu.shape}')\n",
    "print(f'hu={hu}')"
   ]
  },
  {
   "cell_type": "code",
   "execution_count": 5,
   "id": "160b6c92",
   "metadata": {},
   "outputs": [],
   "source": [
    "angle = 45.0# 45도 회전\n",
    "scale = 2# 2만큼 스케일링\n",
    "cx = M['m10']/M['m00']#중점 구하는 방법\n",
    "cy = M['m01']/M['m00']#중점 구하는 방법\n",
    "center = (cx, cy)\n",
    "t = (20, 30)\n",
    "\n",
    "A = cv2.getRotationMatrix2D(center, angle, scale)# 변환된 A\n",
    "A[:, 2] += t\n",
    "cnt2 = cv2.transform(cnt, A)\n",
    "cv2.drawContours(dst, [cnt2], 0, (0, 255, 0), 3)\n",
    "\n",
    "cv2.imshow('dst', dst)\n",
    "cv2.waitKey()\n",
    "cv2.destroyAllWindows()"
   ]
  },
  {
   "cell_type": "code",
   "execution_count": 6,
   "id": "af2116b7",
   "metadata": {},
   "outputs": [
    {
     "name": "stdout",
     "output_type": "stream",
     "text": [
      "hu2.shape=(7, 1)\n",
      "hu2=[[ 1.72315532e-01]\n",
      " [ 2.19894043e-03]\n",
      " [ 9.24013788e-05]\n",
      " [ 1.92173675e-06]\n",
      " [ 1.73796249e-12]\n",
      " [-5.16989270e-09]\n",
      " [-2.55492165e-11]]\n"
     ]
    }
   ],
   "source": [
    "M2 = cv2.moments(cnt2)\n",
    "hu2 = cv2.HuMoments(M2)\n",
    "print(f'hu2.shape={hu2.shape}')\n",
    "print(f'hu2={hu2}')"
   ]
  },
  {
   "cell_type": "code",
   "execution_count": 8,
   "id": "5d9df2c1",
   "metadata": {},
   "outputs": [
    {
     "name": "stdout",
     "output_type": "stream",
     "text": [
      "diffsum=6.196529554562044e-05\n"
     ]
    }
   ],
   "source": [
    "diffsum = np.sum(cv2.absdiff(hu, hu2))#빼서 절대값 씌운걸 더함\n",
    "print(f'diffsum={diffsum}')"
   ]
  },
  {
   "cell_type": "code",
   "execution_count": null,
   "id": "3dfe3700",
   "metadata": {},
   "outputs": [],
   "source": []
  }
 ],
 "metadata": {
  "kernelspec": {
   "display_name": "Python 3 (ipykernel)",
   "language": "python",
   "name": "python3"
  },
  "language_info": {
   "codemirror_mode": {
    "name": "ipython",
    "version": 3
   },
   "file_extension": ".py",
   "mimetype": "text/x-python",
   "name": "python",
   "nbconvert_exporter": "python",
   "pygments_lexer": "ipython3",
   "version": "3.10.4"
  }
 },
 "nbformat": 4,
 "nbformat_minor": 5
}
