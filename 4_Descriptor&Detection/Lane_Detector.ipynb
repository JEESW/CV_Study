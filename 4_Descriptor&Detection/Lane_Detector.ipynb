{
 "cells": [
  {
   "cell_type": "code",
   "execution_count": 2,
   "id": "e32f48e0",
   "metadata": {},
   "outputs": [],
   "source": [
    "import cv2\n",
    "import numpy as np\n",
    "import matplotlib.pyplot as plt"
   ]
  },
  {
   "cell_type": "code",
   "execution_count": 3,
   "id": "e6585498",
   "metadata": {},
   "outputs": [],
   "source": [
    "src = cv2.imread('../1/lane.jpg')\n",
    "cv2.imshow('lane', src)\n",
    "cv2.waitKey()\n",
    "cv2.destroyAllWindows()"
   ]
  },
  {
   "cell_type": "code",
   "execution_count": 4,
   "id": "ea848236",
   "metadata": {},
   "outputs": [
    {
     "name": "stdout",
     "output_type": "stream",
     "text": [
      "(1280, 720)\n"
     ]
    }
   ],
   "source": [
    "cap = cv2.VideoCapture('../1/lane.mp4')\n",
    "frame_size = (int(cap.get(cv2.CAP_PROP_FRAME_WIDTH)), int(cap.get(cv2.CAP_PROP_FRAME_HEIGHT)))\n",
    "print(frame_size)"
   ]
  },
  {
   "cell_type": "code",
   "execution_count": 5,
   "id": "64477012",
   "metadata": {},
   "outputs": [],
   "source": [
    "while True:\n",
    "    retval, frame = cap.read()\n",
    "    if not retval:\n",
    "        break\n",
    "    cv2.imshow('frame', frame)\n",
    "    key = cv2.waitKey(25)\n",
    "    if key == 27:\n",
    "        break\n",
    "if cap.isOpened():\n",
    "    cap.release\n",
    "cv2.destroyAllWindows()"
   ]
  },
  {
   "cell_type": "code",
   "execution_count": 6,
   "id": "04708f46",
   "metadata": {},
   "outputs": [],
   "source": [
    "def LaneDetection(src, roi, color=(0, 0, 255)):\n",
    "    # edge detection\n",
    "    img = src.copy()\n",
    "    gray = cv2.cvtColor(img, cv2.COLOR_BGR2GRAY)\n",
    "    blur = cv2.GaussianBlur(gray, (5, 5), 0)\n",
    "    canny = cv2.Canny(blur, 50, 150)\n",
    "    \n",
    "    # set ROI\n",
    "    # 오른쪽 차선을 타게 해야 함. 따라서 여기서 ROI는 우측 차선 부분\n",
    "    height = canny.shape[0]\n",
    "    mask = np.zeros_like(canny)\n",
    "    cv2.fillPoly(mask, roi, 255)\n",
    "    masked_image = cv2.bitwise_and(canny, mask)# ROI부분만 남게함.\n",
    "    \n",
    "    # line detection\n",
    "    lines = cv2.HoughLinesP(masked_image, rho=1, theta=np.pi/180.0, threshold=100)\n",
    "    \n",
    "    #draw line\n",
    "    for line in lines:\n",
    "        x1, y1, x2, y2 = line[0]\n",
    "        cv2.line(img, (x1, y1), (x2, y2), color, 2)\n",
    "        \n",
    "    return img"
   ]
  },
  {
   "cell_type": "code",
   "execution_count": 7,
   "id": "854cbdd7",
   "metadata": {},
   "outputs": [
    {
     "name": "stdout",
     "output_type": "stream",
     "text": [
      "(1280, 720)\n"
     ]
    }
   ],
   "source": [
    "cap = cv2.VideoCapture('../1/lane.mp4')\n",
    "frame_size = (int(cap.get(cv2.CAP_PROP_FRAME_WIDTH)), int(cap.get(cv2.CAP_PROP_FRAME_HEIGHT)))\n",
    "print(frame_size)"
   ]
  },
  {
   "cell_type": "code",
   "execution_count": 8,
   "id": "5b64d57b",
   "metadata": {},
   "outputs": [
    {
     "data": {
      "text/plain": [
       "(1, 3, 2)"
      ]
     },
     "execution_count": 8,
     "metadata": {},
     "output_type": "execute_result"
    }
   ],
   "source": [
    "height = 720\n",
    "roi = np.array([[(200, height), (1100, height), (550, 250)]])\n",
    "roi.shape"
   ]
  },
  {
   "cell_type": "code",
   "execution_count": 9,
   "id": "76571cbc",
   "metadata": {},
   "outputs": [],
   "source": [
    "while True:\n",
    "    retval, frame = cap.read()\n",
    "    if not retval:\n",
    "        break\n",
    "        \n",
    "    #lane detection\n",
    "    lane = frame.copy()\n",
    "    line_image = LaneDetection(lane, roi, color=(255, 255, 0))\n",
    "    cv2.imshow('lane', line_image)\n",
    "    \n",
    "    key = cv2.waitKey(25)\n",
    "    if key == 27:\n",
    "        break\n",
    "        \n",
    "if cap.isOpened():\n",
    "    cap.release\n",
    "cv2.destroyAllWindows()"
   ]
  },
  {
   "cell_type": "code",
   "execution_count": null,
   "id": "f2190436",
   "metadata": {},
   "outputs": [],
   "source": []
  }
 ],
 "metadata": {
  "kernelspec": {
   "display_name": "Python 3 (ipykernel)",
   "language": "python",
   "name": "python3"
  },
  "language_info": {
   "codemirror_mode": {
    "name": "ipython",
    "version": 3
   },
   "file_extension": ".py",
   "mimetype": "text/x-python",
   "name": "python",
   "nbconvert_exporter": "python",
   "pygments_lexer": "ipython3",
   "version": "3.10.4"
  }
 },
 "nbformat": 4,
 "nbformat_minor": 5
}
