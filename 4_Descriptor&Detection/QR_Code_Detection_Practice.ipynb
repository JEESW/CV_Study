{
 "cells": [
  {
   "cell_type": "code",
   "execution_count": 1,
   "id": "6b171679",
   "metadata": {},
   "outputs": [],
   "source": [
    "import cv2\n",
    "import numpy as np\n",
    "import matplotlib.pyplot as plt\n",
    "import webbrowser"
   ]
  },
  {
   "cell_type": "code",
   "execution_count": 2,
   "id": "c851546f",
   "metadata": {},
   "outputs": [],
   "source": [
    "inputimage = cv2.imread('../1/QRCode.png')\n",
    "qrdecoder = cv2.QRCodeDetector()\n",
    "data, bbox, _ = qrdecoder.detectAndDecode(inputimage)"
   ]
  },
  {
   "cell_type": "code",
   "execution_count": 3,
   "id": "2880c02a",
   "metadata": {},
   "outputs": [
    {
     "name": "stdout",
     "output_type": "stream",
     "text": [
      "decoded data: https://www.catholic.ac.kr\n"
     ]
    }
   ],
   "source": [
    "if len(data) > 0:\n",
    "    print(f'decoded data: {data}')\n",
    "    \n",
    "    cv2.imshow('qr code', inputimage)\n",
    "    cv2.waitKey()\n",
    "    cv2.destroyAllWindows()\n",
    "    \n",
    "    webbrowser.open(data)\n",
    "else:\n",
    "    print(f'QR code is not detected...!!!')"
   ]
  },
  {
   "cell_type": "code",
   "execution_count": null,
   "id": "5a386edd",
   "metadata": {},
   "outputs": [],
   "source": []
  }
 ],
 "metadata": {
  "kernelspec": {
   "display_name": "Python 3 (ipykernel)",
   "language": "python",
   "name": "python3"
  },
  "language_info": {
   "codemirror_mode": {
    "name": "ipython",
    "version": 3
   },
   "file_extension": ".py",
   "mimetype": "text/x-python",
   "name": "python",
   "nbconvert_exporter": "python",
   "pygments_lexer": "ipython3",
   "version": "3.10.4"
  }
 },
 "nbformat": 4,
 "nbformat_minor": 5
}
