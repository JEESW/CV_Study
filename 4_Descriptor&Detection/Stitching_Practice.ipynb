{
 "cells": [
  {
   "cell_type": "code",
   "execution_count": 1,
   "id": "a700d10e",
   "metadata": {},
   "outputs": [],
   "source": [
    "import cv2"
   ]
  },
  {
   "cell_type": "markdown",
   "id": "2618e5d1",
   "metadata": {},
   "source": [
    "Image Stitching"
   ]
  },
  {
   "cell_type": "code",
   "execution_count": 2,
   "id": "5960a1ee",
   "metadata": {},
   "outputs": [],
   "source": [
    "src1 = cv2.imread('../1/stitch/stitch_image1.jpg')\n",
    "src2 = cv2.imread('../1/stitch/stitch_image2.jpg')\n",
    "src3 = cv2.imread('../1/stitch/stitch_image3.jpg')\n",
    "src4 = cv2.imread('../1/stitch/stitch_image4.jpg')"
   ]
  },
  {
   "cell_type": "code",
   "execution_count": 3,
   "id": "24798e2c",
   "metadata": {},
   "outputs": [],
   "source": [
    "stitcher = cv2.Stitcher_create(cv2.Stitcher_PANORAMA)# stitcher 객체 생성\n",
    "status, dst2 = stitcher.stitch((src1, src2))\n",
    "status, dst3 = stitcher.stitch((dst2, src3))\n",
    "status, dst4 = stitcher.stitch((dst3, src4))"
   ]
  },
  {
   "cell_type": "code",
   "execution_count": 4,
   "id": "9608237c",
   "metadata": {},
   "outputs": [],
   "source": [
    "cv2.imshow('src1', src1)\n",
    "cv2.imshow('dst2', dst2)\n",
    "cv2.imshow('dst3', dst3)\n",
    "cv2.imshow('dst4', dst4)\n",
    "cv2.waitKey()\n",
    "cv2.destroyAllWindows()"
   ]
  },
  {
   "cell_type": "markdown",
   "id": "8cd30cb4",
   "metadata": {},
   "source": [
    "Video Stitching"
   ]
  },
  {
   "cell_type": "code",
   "execution_count": 5,
   "id": "1178ba82",
   "metadata": {},
   "outputs": [
    {
     "name": "stdout",
     "output_type": "stream",
     "text": [
      "11\n"
     ]
    }
   ],
   "source": [
    "cap = cv2.VideoCapture('../1/stitch/stitch_videoInput.mp4')\n",
    "t = 0\n",
    "images = []\n",
    "STEP = 20\n",
    "while True:\n",
    "    t += 1\n",
    "    retval, frame = cap.read()\n",
    "    if not retval:\n",
    "        cv2.destroyAllWindows()\n",
    "        break\n",
    "    img = cv2.resize(frame, dsize=(480, 640))\n",
    "    img = cv2.flip(img, 0)# 상하 반전\n",
    "    if t%STEP == 0:\n",
    "        images.append(img)\n",
    "    cv2.imshow('img', img)\n",
    "    key=cv2.waitKey(25)\n",
    "    if key==27:\n",
    "        cv2.destroyAllWindows()\n",
    "        break\n",
    "\n",
    "if cap.isOpened():\n",
    "    cap.release()\n",
    "        \n",
    "print(len(images))"
   ]
  },
  {
   "cell_type": "code",
   "execution_count": 6,
   "id": "fcfe48e1",
   "metadata": {},
   "outputs": [],
   "source": [
    "stitcher = cv2.Stitcher_create()\n",
    "status, dst = stitcher.stitch(images)\n",
    "if status == cv2.STITCHER_OK:\n",
    "    cv2.imshow('dst', dst)\n",
    "    cv2.waitKey()\n",
    "    cv2.destroyAllWindows()"
   ]
  },
  {
   "cell_type": "code",
   "execution_count": null,
   "id": "64819abb",
   "metadata": {},
   "outputs": [],
   "source": []
  }
 ],
 "metadata": {
  "kernelspec": {
   "display_name": "Python 3 (ipykernel)",
   "language": "python",
   "name": "python3"
  },
  "language_info": {
   "codemirror_mode": {
    "name": "ipython",
    "version": 3
   },
   "file_extension": ".py",
   "mimetype": "text/x-python",
   "name": "python",
   "nbconvert_exporter": "python",
   "pygments_lexer": "ipython3",
   "version": "3.10.4"
  }
 },
 "nbformat": 4,
 "nbformat_minor": 5
}
