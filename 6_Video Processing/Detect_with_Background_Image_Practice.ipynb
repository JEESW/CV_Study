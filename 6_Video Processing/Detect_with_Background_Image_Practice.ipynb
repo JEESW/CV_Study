{
 "cells": [
  {
   "cell_type": "code",
   "execution_count": 1,
   "id": "987bdd86",
   "metadata": {},
   "outputs": [],
   "source": [
    "import cv2\n",
    "import numpy as np\n",
    "import matplotlib.pyplot as plt"
   ]
  },
  {
   "cell_type": "code",
   "execution_count": 2,
   "id": "beb57b71",
   "metadata": {},
   "outputs": [],
   "source": [
    "cap = cv2.VideoCapture('../1/vtest.avi')\n",
    "if not cap.isOpened():\n",
    "    print('Error~')\n",
    "    \n",
    "height, width = (int(cap.get(cv2.CAP_PROP_FRAME_HEIGHT)), int(cap.get(cv2.CAP_PROP_FRAME_WIDTH)))\n",
    "\n",
    "bkg_gray = cv2.imread('../1/avg_gray.png', cv2.IMREAD_GRAYSCALE)\n",
    "bkg_bgr = cv2.imread('../1/avg_bgr.png')"
   ]
  },
  {
   "cell_type": "code",
   "execution_count": 3,
   "id": "b69e0419",
   "metadata": {},
   "outputs": [],
   "source": [
    "TH = 80# insentity threshold\n",
    "AREA_TH = 100# area threshold\n",
    "mode = cv2.RETR_EXTERNAL\n",
    "method = cv2.CHAIN_APPROX_SIMPLE"
   ]
  },
  {
   "cell_type": "code",
   "execution_count": 4,
   "id": "b0743ce7",
   "metadata": {},
   "outputs": [],
   "source": [
    "t = 0\n",
    "while True:\n",
    "    ret, frame = cap.read()\n",
    "    if not ret:\n",
    "        break\n",
    "    t += 1\n",
    "    \n",
    "    #gray\n",
    "    gray = cv2.cvtColor(frame, cv2.COLOR_BGR2GRAY)\n",
    "    diff_gray = cv2.absdiff(gray, bkg_gray)\n",
    "    \n",
    "    #color\n",
    "    diff_bgr = cv2.absdiff(frame, bkg_bgr)\n",
    "    db, dg, dr = cv2.split(diff_bgr)\n",
    "    ret, bb = cv2.threshold(db, TH, 255, cv2.THRESH_BINARY)\n",
    "    ret, bg = cv2.threshold(dg, TH, 255, cv2.THRESH_BINARY)\n",
    "    ret, br = cv2.threshold(dr, TH, 255, cv2.THRESH_BINARY)\n",
    "    \n",
    "    bimage = cv2.bitwise_or(bb, bg)\n",
    "    bimage = cv2.bitwise_or(br, bimage)\n",
    "    bimage = cv2.erode(bimage, None, 5)\n",
    "    bimage = cv2.dilate(bimage, None, 5)\n",
    "    bimage = cv2.erode(bimage, None, 7)\n",
    "    \n",
    "    contours, hierarcy = cv2.findContours(bimage, mode, method)\n",
    "    cv2.drawContours(frame, contours, -1, (255, 0, 0), 1)\n",
    "    for i, cnt in enumerate(contours):\n",
    "        area = cv2.contourArea(cnt)\n",
    "        if area > AREA_TH:\n",
    "            x, y, w, h = cv2.boundingRect(cnt)\n",
    "            cv2.rectangle(frame, (x, y), (x+w, y+h), (0, 0, 255), 2)\n",
    "            \n",
    "    cv2.imshow('frame', frame)\n",
    "    cv2.imshow('bimage', bimage)\n",
    "    cv2.imshow('diff_gray', diff_gray)\n",
    "    cv2.imshow('diff_bgr', diff_bgr)\n",
    "    \n",
    "    key = cv2.waitKey(20)\n",
    "    if key ==  27:\n",
    "        break\n",
    "    \n",
    "if cap.isOpened():\n",
    "    cap.release()\n",
    "\n",
    "cv2.destroyAllWindows()"
   ]
  },
  {
   "cell_type": "code",
   "execution_count": null,
   "id": "f7590923",
   "metadata": {},
   "outputs": [],
   "source": []
  }
 ],
 "metadata": {
  "kernelspec": {
   "display_name": "Python 3 (ipykernel)",
   "language": "python",
   "name": "python3"
  },
  "language_info": {
   "codemirror_mode": {
    "name": "ipython",
    "version": 3
   },
   "file_extension": ".py",
   "mimetype": "text/x-python",
   "name": "python",
   "nbconvert_exporter": "python",
   "pygments_lexer": "ipython3",
   "version": "3.10.4"
  }
 },
 "nbformat": 4,
 "nbformat_minor": 5
}
