{
 "cells": [
  {
   "cell_type": "code",
   "execution_count": 1,
   "id": "0f8309fc",
   "metadata": {},
   "outputs": [],
   "source": [
    "import cv2\n",
    "import numpy as np\n",
    "import matplotlib.pyplot as plt"
   ]
  },
  {
   "cell_type": "code",
   "execution_count": 2,
   "id": "ae597def",
   "metadata": {},
   "outputs": [
    {
     "name": "stdout",
     "output_type": "stream",
     "text": [
      "576 768\n"
     ]
    }
   ],
   "source": [
    "cap = cv2.VideoCapture('../1/vtest.avi')\n",
    "if not cap.isOpened():\n",
    "    print('Error~')\n",
    "    \n",
    "height, width = (int(cap.get(cv2.CAP_PROP_FRAME_HEIGHT)), int(cap.get(cv2.CAP_PROP_FRAME_WIDTH)))\n",
    "acc_gray = np.zeros(shape=(height, width), dtype=np.float32)\n",
    "acc_bgr = np.zeros(shape=(height, width, 3), dtype=np.float32)\n",
    "print(height, width)"
   ]
  },
  {
   "cell_type": "code",
   "execution_count": 3,
   "id": "bdbd75b4",
   "metadata": {},
   "outputs": [],
   "source": [
    "t = 0\n",
    "while True:\n",
    "    ret, frame = cap.read()\n",
    "    if not ret:\n",
    "        break\n",
    "    t += 1\n",
    "    gray = cv2.cvtColor(frame, cv2.COLOR_BGR2GRAY)\n",
    "    \n",
    "    cv2.accumulate(gray, acc_gray)\n",
    "    avg_gray = acc_gray / t\n",
    "    dst_gray = cv2.convertScaleAbs(avg_gray)\n",
    "    \n",
    "    cv2.accumulate(frame, acc_bgr)\n",
    "    avg_bgr = acc_bgr / t\n",
    "    dst_bgr = cv2.convertScaleAbs(avg_bgr)\n",
    "    \n",
    "    cv2.imshow('frame', frame)\n",
    "    cv2.imshow('dst_gray', dst_gray)\n",
    "    cv2.imshow('dst_bgr', dst_bgr)\n",
    "    \n",
    "    key = cv2.waitKey(20)\n",
    "    if key ==  27:\n",
    "        break\n",
    "    \n",
    "if cap.isOpened():\n",
    "    cap.release()\n",
    "\n",
    "cv2.imwrite('../1/avg_gray.png', dst_gray)\n",
    "cv2.imwrite('../1/avg_bgr.png', dst_bgr)\n",
    "cv2.destroyAllWindows()"
   ]
  },
  {
   "cell_type": "code",
   "execution_count": null,
   "id": "5a88d5e0",
   "metadata": {},
   "outputs": [],
   "source": []
  }
 ],
 "metadata": {
  "kernelspec": {
   "display_name": "Python 3 (ipykernel)",
   "language": "python",
   "name": "python3"
  },
  "language_info": {
   "codemirror_mode": {
    "name": "ipython",
    "version": 3
   },
   "file_extension": ".py",
   "mimetype": "text/x-python",
   "name": "python",
   "nbconvert_exporter": "python",
   "pygments_lexer": "ipython3",
   "version": "3.10.4"
  }
 },
 "nbformat": 4,
 "nbformat_minor": 5
}
