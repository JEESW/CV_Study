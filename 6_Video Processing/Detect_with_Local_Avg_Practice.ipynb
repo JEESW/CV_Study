{
 "cells": [
  {
   "cell_type": "code",
   "execution_count": 1,
   "id": "67b1e5a1",
   "metadata": {},
   "outputs": [],
   "source": [
    "import cv2\n",
    "import numpy as np\n",
    "import matplotlib.pyplot as plt"
   ]
  },
  {
   "cell_type": "code",
   "execution_count": 2,
   "id": "42f9cc91",
   "metadata": {},
   "outputs": [],
   "source": [
    "cap = cv2.VideoCapture('../1/vtest.avi')\n",
    "if not cap.isOpened():\n",
    "    print('Error~')\n",
    "    \n",
    "height, width = (int(cap.get(cv2.CAP_PROP_FRAME_HEIGHT)), int(cap.get(cv2.CAP_PROP_FRAME_WIDTH)))"
   ]
  },
  {
   "cell_type": "code",
   "execution_count": 3,
   "id": "3685c85c",
   "metadata": {},
   "outputs": [],
   "source": [
    "TH = 80# insentity threshold\n",
    "AREA_TH = 100# area threshold\n",
    "mode = cv2.RETR_EXTERNAL\n",
    "method = cv2.CHAIN_APPROX_SIMPLE\n",
    "acc_bgr = np.zeros(shape=(height, width, 3), dtype=np.float32)"
   ]
  },
  {
   "cell_type": "code",
   "execution_count": 4,
   "id": "7fe0434f",
   "metadata": {},
   "outputs": [],
   "source": [
    "t = 0\n",
    "while True:\n",
    "    ret, frame = cap.read()\n",
    "    if not ret:\n",
    "        break\n",
    "    t += 1\n",
    "    blur = cv2.GaussianBlur(frame, (5, 5), .0)\n",
    "    \n",
    "    if t < 50:\n",
    "        cv2.accumulate(blur, acc_bgr)\n",
    "        continue\n",
    "        \n",
    "    elif t == 50:\n",
    "        bkg_bgr = acc_bgr / t\n",
    "        \n",
    "    diff_bgr = np.uint8(cv2.absdiff(np.float32(blur), bkg_bgr))\n",
    "    db, dg, dr = cv2.split(diff_bgr)\n",
    "    ret, bb = cv2.threshold(db, TH, 255, cv2.THRESH_BINARY)\n",
    "    ret, bg = cv2.threshold(dg, TH, 255, cv2.THRESH_BINARY)\n",
    "    ret, br = cv2.threshold(dr, TH, 255, cv2.THRESH_BINARY)\n",
    "    \n",
    "    bimage = cv2.bitwise_or(bb, bg)\n",
    "    bimage = cv2.bitwise_or(br, bimage)\n",
    "    bimage = cv2.erode(bimage, None, 5)\n",
    "    bimage = cv2.dilate(bimage, None, 5)\n",
    "    bimage = cv2.erode(bimage, None, 7)\n",
    "    \n",
    "    contours, hierarcy = cv2.findContours(bimage, mode, method)\n",
    "    cv2.drawContours(frame, contours, -1, (255, 0, 0), 1)\n",
    "    for i, cnt in enumerate(contours):\n",
    "        area = cv2.contourArea(cnt)\n",
    "        if area > AREA_TH:\n",
    "            x, y, w, h = cv2.boundingRect(cnt)\n",
    "            cv2.rectangle(frame, (x, y), (x+w, y+h), (0, 0, 255), 2)\n",
    "            \n",
    "    cv2.imshow('frame', frame)\n",
    "    cv2.imshow('bimage', bimage)\n",
    "    cv2.imshow('diff_bgr', diff_bgr)\n",
    "    \n",
    "    key = cv2.waitKey(20)\n",
    "    if key ==  27:\n",
    "        break\n",
    "    \n",
    "if cap.isOpened():\n",
    "    cap.release()\n",
    "\n",
    "cv2.destroyAllWindows()"
   ]
  },
  {
   "cell_type": "code",
   "execution_count": null,
   "id": "06cebf01",
   "metadata": {},
   "outputs": [],
   "source": []
  }
 ],
 "metadata": {
  "kernelspec": {
   "display_name": "Python 3 (ipykernel)",
   "language": "python",
   "name": "python3"
  },
  "language_info": {
   "codemirror_mode": {
    "name": "ipython",
    "version": 3
   },
   "file_extension": ".py",
   "mimetype": "text/x-python",
   "name": "python",
   "nbconvert_exporter": "python",
   "pygments_lexer": "ipython3",
   "version": "3.10.4"
  }
 },
 "nbformat": 4,
 "nbformat_minor": 5
}
