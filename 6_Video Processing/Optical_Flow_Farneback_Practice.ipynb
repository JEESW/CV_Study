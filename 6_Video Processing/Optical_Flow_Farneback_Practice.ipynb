{
 "cells": [
  {
   "cell_type": "code",
   "execution_count": 2,
   "id": "0e673df6",
   "metadata": {},
   "outputs": [],
   "source": [
    "import cv2\n",
    "import numpy as np\n",
    "import matplotlib.pyplot as plt"
   ]
  },
  {
   "cell_type": "code",
   "execution_count": 3,
   "id": "5f60becd",
   "metadata": {},
   "outputs": [],
   "source": [
    "def drawFlow(img, flow, thresh=2, stride=8):\n",
    "    h, w = img.shape[:2]\n",
    "    mag, ang = cv2.cartToPolar(flow[...,0], flow[...,1])\n",
    "    flow2 = np.int32(flow)\n",
    "    for y in range(0,h,stride):\n",
    "        for x in range(0,w,stride):\n",
    "            dx, dy = flow2[y,x]\n",
    "            if mag[y,x] > thresh:\n",
    "                cv2.circle(img, (x, y), 2, (0,255,0), -1)\n",
    "                cv2.line(img, (x, y), (x+dx, y+dy),(255, 0, 0), 1)"
   ]
  },
  {
   "cell_type": "code",
   "execution_count": 4,
   "id": "4d643cfe",
   "metadata": {},
   "outputs": [],
   "source": [
    "cap = cv2.VideoCapture('../1/vtest.avi')\n",
    "if not cap.isOpened():\n",
    "    print('Error~')\n",
    "    \n",
    "height, width = (int(cap.get(cv2.CAP_PROP_FRAME_HEIGHT)), int(cap.get(cv2.CAP_PROP_FRAME_WIDTH)))\n",
    "hsv = np.zeros((height, width, 3), dtype = np.uint8)\n",
    "\n",
    "ret, frame = cap.read()\n",
    "imgP = cv2.cvtColor(frame, cv2.COLOR_BGR2GRAY)\n",
    "\n",
    "TH = 2\n",
    "params = dict(pyr_scale = .5, levels = 3, winsize = 15, iterations = 3, poly_n = 5, poly_sigma = 1.2, flags = 0)"
   ]
  },
  {
   "cell_type": "code",
   "execution_count": null,
   "id": "7d414fb5",
   "metadata": {},
   "outputs": [],
   "source": [
    "t = 0\n",
    "while True:\n",
    "    ret, frame = cap.read()\n",
    "    if not ret:\n",
    "        break\n",
    "    t += 1\n",
    "    imgC = cv2.cvtColor(frame, cv2.COLOR_BGR2GRAY)\n",
    "    imgC = cv2.GaussianBlur(imgC, (5, 5), 0.5)\n",
    "    \n",
    "    flow = cv2.calcOpticalFlowFarneback(imgP, imgC, None, **params)\n",
    "    drawFlow = (frame, flow, TH)\n",
    "    cv2.imshow('frame', frame)\n",
    "    imgP = imgC.copy()\n",
    "    key = cv2.waitKey(20)\n",
    "    if key == 27:\n",
    "        break\n",
    "    \n",
    "if cap.isOpened():\n",
    "    cap.release()\n",
    "cv2.destroyAllWindows()"
   ]
  },
  {
   "cell_type": "code",
   "execution_count": null,
   "id": "b7554168",
   "metadata": {},
   "outputs": [],
   "source": []
  }
 ],
 "metadata": {
  "kernelspec": {
   "display_name": "Python 3 (ipykernel)",
   "language": "python",
   "name": "python3"
  },
  "language_info": {
   "codemirror_mode": {
    "name": "ipython",
    "version": 3
   },
   "file_extension": ".py",
   "mimetype": "text/x-python",
   "name": "python",
   "nbconvert_exporter": "python",
   "pygments_lexer": "ipython3",
   "version": "3.10.4"
  }
 },
 "nbformat": 4,
 "nbformat_minor": 5
}
